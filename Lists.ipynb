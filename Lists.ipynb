{
 "cells": [
  {
   "cell_type": "code",
   "execution_count": 3,
   "id": "58e06c56-ab5c-47d7-93fb-63473b8bb1fe",
   "metadata": {},
   "outputs": [],
   "source": [
    "#creating an empty list\n",
    "my_list = []\n"
   ]
  },
  {
   "cell_type": "code",
   "execution_count": 7,
   "id": "f01c25c7-5ed9-4f3a-b843-85b6544291dc",
   "metadata": {},
   "outputs": [
    {
     "name": "stdout",
     "output_type": "stream",
     "text": [
      "[1, 3, 4, 55, 4454, 45, 99]\n"
     ]
    }
   ],
   "source": [
    "my_list = [1,3,4,55,4454,45]\n",
    "my_list.append(99)\n",
    "print(my_list)"
   ]
  },
  {
   "cell_type": "code",
   "execution_count": 11,
   "id": "eba7c8ec-1c92-41ea-a010-99405733bf2d",
   "metadata": {},
   "outputs": [
    {
     "name": "stdout",
     "output_type": "stream",
     "text": [
      "45\n"
     ]
    }
   ],
   "source": [
    "my_list = [1,3,4,55,4454,45]\n",
    "print(my_list[5])"
   ]
  },
  {
   "cell_type": "code",
   "execution_count": 13,
   "id": "03fe6ef7-ef7d-45f8-8cf0-b55fa1e60f9f",
   "metadata": {},
   "outputs": [
    {
     "name": "stdout",
     "output_type": "stream",
     "text": [
      "[45, 4454, 55, 4, 3, 1]\n"
     ]
    }
   ],
   "source": [
    "my_list = [1,3,4,55,4454,45]\n",
    "my_list.reverse()\n",
    "print(my_list)"
   ]
  },
  {
   "cell_type": "code",
   "execution_count": 14,
   "id": "f90ae034-27d5-490e-9cf2-4e6cc4f42b19",
   "metadata": {},
   "outputs": [
    {
     "name": "stdout",
     "output_type": "stream",
     "text": [
      "[1, 3, 4, 45, 55, 4454]\n"
     ]
    }
   ],
   "source": [
    "my_list = [1,3,4,55,4454,45]\n",
    "my_list.sort()\n",
    "print(my_list)"
   ]
  },
  {
   "cell_type": "code",
   "execution_count": 15,
   "id": "0652709c-8d62-408c-9a6d-2afce1771b7e",
   "metadata": {},
   "outputs": [
    {
     "name": "stdout",
     "output_type": "stream",
     "text": [
      "Mission Impossible\n"
     ]
    }
   ],
   "source": [
    "movie_list = ['Avengers', 'Mission Impossible', 'Fast and The furious']\n",
    "print(movie_list[1])"
   ]
  },
  {
   "cell_type": "code",
   "execution_count": 22,
   "id": "ecb875bc-a37e-4c92-b21f-d58424c70816",
   "metadata": {},
   "outputs": [
    {
     "name": "stdout",
     "output_type": "stream",
     "text": [
      "['cat', 'dog', 'tiger', 'lion']\n"
     ]
    }
   ],
   "source": [
    "animals = ['cat','dog','lion']\n",
    "animals.insert(2,'tiger')\n",
    "print(animals)\n"
   ]
  },
  {
   "cell_type": "code",
   "execution_count": 23,
   "id": "9334097e-3ea7-458a-9d56-a3cf670a226c",
   "metadata": {},
   "outputs": [
    {
     "ename": "TypeError",
     "evalue": "index expected at least 1 argument, got 0",
     "output_type": "error",
     "traceback": [
      "\u001b[0;31m---------------------------------------------------------------------------\u001b[0m",
      "\u001b[0;31mTypeError\u001b[0m                                 Traceback (most recent call last)",
      "Cell \u001b[0;32mIn[23], line 2\u001b[0m\n\u001b[1;32m      1\u001b[0m cities \u001b[38;5;241m=\u001b[39m [\u001b[38;5;124m'\u001b[39m\u001b[38;5;124mMumbai\u001b[39m\u001b[38;5;124m'\u001b[39m, \u001b[38;5;124m'\u001b[39m\u001b[38;5;124mKanpur\u001b[39m\u001b[38;5;124m'\u001b[39m, \u001b[38;5;124m'\u001b[39m\u001b[38;5;124mLucknow\u001b[39m\u001b[38;5;124m'\u001b[39m, \u001b[38;5;124m'\u001b[39m\u001b[38;5;124mPanipat\u001b[39m\u001b[38;5;124m'\u001b[39m,\u001b[38;5;124m'\u001b[39m\u001b[38;5;124mBengaluru\u001b[39m\u001b[38;5;124m'\u001b[39m]\n\u001b[0;32m----> 2\u001b[0m \u001b[43mcities\u001b[49m\u001b[38;5;241;43m.\u001b[39;49m\u001b[43mindex\u001b[49m\u001b[43m(\u001b[49m\u001b[43m)\u001b[49m\n",
      "\u001b[0;31mTypeError\u001b[0m: index expected at least 1 argument, got 0"
     ]
    }
   ],
   "source": [
    "cities = ['Mumbai', 'Kanpur', 'Lucknow', 'Panipat','Bengaluru']\n",
    "print(cities"
   ]
  }
 ],
 "metadata": {
  "kernelspec": {
   "display_name": "Python 3 (ipykernel)",
   "language": "python",
   "name": "python3"
  },
  "language_info": {
   "codemirror_mode": {
    "name": "ipython",
    "version": 3
   },
   "file_extension": ".py",
   "mimetype": "text/x-python",
   "name": "python",
   "nbconvert_exporter": "python",
   "pygments_lexer": "ipython3",
   "version": "3.10.8"
  }
 },
 "nbformat": 4,
 "nbformat_minor": 5
}
