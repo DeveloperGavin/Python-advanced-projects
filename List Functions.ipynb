{
 "cells": [
  {
   "cell_type": "code",
   "execution_count": null,
   "id": "4d14bed5-0c88-407a-b9f6-395346022393",
   "metadata": {},
   "outputs": [],
   "source": [
    "#Q.1 list_name.insert(index,'value')"
   ]
  },
  {
   "cell_type": "code",
   "execution_count": null,
   "id": "148fa2a1-320b-4ec7-a81e-33406e619aa1",
   "metadata": {},
   "outputs": [],
   "source": [
    "'''remove functions removes the value from list and shows the remaining list whereas pop function\n",
    "shows the deleted value'''"
   ]
  },
  {
   "cell_type": "code",
   "execution_count": 2,
   "id": "4d6326f8-2a30-4773-b881-6e87d9f9e8b2",
   "metadata": {},
   "outputs": [
    {
     "name": "stdout",
     "output_type": "stream",
     "text": [
      "[0, 1, 2, 5, 6, 90]\n"
     ]
    }
   ],
   "source": [
    "l1= [1,2,0,90,5,6]\n",
    "l1.sort()\n",
    "print(l1)"
   ]
  },
  {
   "cell_type": "code",
   "execution_count": 9,
   "id": "414b3e7c-649a-42b0-8fdf-810a78be7d83",
   "metadata": {},
   "outputs": [
    {
     "data": {
      "text/plain": [
       "6"
      ]
     },
     "execution_count": 9,
     "metadata": {},
     "output_type": "execute_result"
    }
   ],
   "source": [
    "l1= [1,2,0,90,5,6]\n",
    "len(l1)"
   ]
  },
  {
   "cell_type": "code",
   "execution_count": null,
   "id": "e3789723-c35a-447b-afdf-d4bc39919b15",
   "metadata": {},
   "outputs": [],
   "source": []
  }
 ],
 "metadata": {
  "kernelspec": {
   "display_name": "Python 3 (ipykernel)",
   "language": "python",
   "name": "python3"
  },
  "language_info": {
   "codemirror_mode": {
    "name": "ipython",
    "version": 3
   },
   "file_extension": ".py",
   "mimetype": "text/x-python",
   "name": "python",
   "nbconvert_exporter": "python",
   "pygments_lexer": "ipython3",
   "version": "3.10.8"
  }
 },
 "nbformat": 4,
 "nbformat_minor": 5
}
