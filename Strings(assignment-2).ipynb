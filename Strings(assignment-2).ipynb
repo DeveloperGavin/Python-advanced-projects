{
 "cells": [
  {
   "cell_type": "code",
   "execution_count": 1,
   "id": "de2538fd-a94d-4f3f-87b7-c726405f7ef5",
   "metadata": {},
   "outputs": [
    {
     "name": "stdout",
     "output_type": "stream",
     "text": [
      "welcome to the world of python\n"
     ]
    }
   ],
   "source": [
    "#question-1\n",
    "py= 'welcome to the world of python'\n",
    "print(py)"
   ]
  },
  {
   "cell_type": "raw",
   "id": "bbbd84e6-18e0-4e82-aaab-c4f0dce0d9bf",
   "metadata": {},
   "source": [
    "Question- 2\n",
    "Here x='a' is a string type variable but not quoted in single or double quotes so it won't be considered as an string, so it is an variable.\n",
    "\n"
   ]
  },
  {
   "cell_type": "code",
   "execution_count": 13,
   "id": "9a622f29-22cc-46d1-8f54-d6e0a3bf31ce",
   "metadata": {},
   "outputs": [
    {
     "name": "stdout",
     "output_type": "stream",
     "text": [
      "8 6 35 Welcome to Python foundation course this is another string\n"
     ]
    }
   ],
   "source": [
    "#question- 3 \n",
    "a= 'Welcome to Python foundation course'\n",
    "c= ' this is another string'\n",
    "x= a.find('to')\n",
    "y= a.count(\"o\")\n",
    "z= len(a)\n",
    "b= a+c\n",
    "print(x,y,z,b)"
   ]
  },
  {
   "cell_type": "code",
   "execution_count": 16,
   "id": "1b3aac2a-8670-4abe-8bda-d4d46b4ae519",
   "metadata": {},
   "outputs": [
    {
     "name": "stdout",
     "output_type": "stream",
     "text": [
      "4\n"
     ]
    }
   ],
   "source": [
    "word = \"PanaJi@12256\"\n",
    "count=0\n",
    "for x in word:\n",
    "    if(x.islower()):\n",
    "        count= count+1\n",
    "print(count)"
   ]
  },
  {
   "cell_type": "code",
   "execution_count": 17,
   "id": "af99b40b-e009-43c0-bbed-cc193325218e",
   "metadata": {},
   "outputs": [
    {
     "name": "stdout",
     "output_type": "stream",
     "text": [
      "2\n"
     ]
    }
   ],
   "source": [
    "word = \"PanaJi@12256\"\n",
    "count=0\n",
    "for x in word:\n",
    "    if(x.isupper()):\n",
    "        count= count+1\n",
    "print(count)"
   ]
  },
  {
   "cell_type": "code",
   "execution_count": 19,
   "id": "cc4319ee-bed3-4835-a463-65b652a3f00b",
   "metadata": {},
   "outputs": [
    {
     "name": "stdout",
     "output_type": "stream",
     "text": [
      "5\n"
     ]
    }
   ],
   "source": [
    "word = \"PanaJi@12256\"\n",
    "count=0\n",
    "for x in word:\n",
    "    if(x.isnumeric()):\n",
    "        count= count+1\n",
    "print(count)"
   ]
  }
 ],
 "metadata": {
  "kernelspec": {
   "display_name": "Python 3 (ipykernel)",
   "language": "python",
   "name": "python3"
  },
  "language_info": {
   "codemirror_mode": {
    "name": "ipython",
    "version": 3
   },
   "file_extension": ".py",
   "mimetype": "text/x-python",
   "name": "python",
   "nbconvert_exporter": "python",
   "pygments_lexer": "ipython3",
   "version": "3.10.8"
  }
 },
 "nbformat": 4,
 "nbformat_minor": 5
}
