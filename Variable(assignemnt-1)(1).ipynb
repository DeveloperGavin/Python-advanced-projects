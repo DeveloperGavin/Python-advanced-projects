{
 "cells": [
  {
   "cell_type": "code",
   "execution_count": null,
   "id": "f1ae7151-d3cd-43e4-87ab-923deb722889",
   "metadata": {},
   "outputs": [],
   "source": [
    "#QUESTION 1"
   ]
  },
  {
   "cell_type": "code",
   "execution_count": 12,
   "id": "965b3c57-8906-48cb-9f4f-10fe1de4abfc",
   "metadata": {},
   "outputs": [],
   "source": [
    "#Conventions of declaring a variable"
   ]
  },
  {
   "cell_type": "code",
   "execution_count": 14,
   "id": "63c37c4e-ddb1-479b-ae7f-648289c44ff6",
   "metadata": {},
   "outputs": [
    {
     "name": "stdout",
     "output_type": "stream",
     "text": [
      "Hello World\n"
     ]
    }
   ],
   "source": [
    "var_able = \"Hello World\"\n",
    "print(var_able)"
   ]
  },
  {
   "cell_type": "code",
   "execution_count": 16,
   "id": "7060d3b4-8461-4fcc-bc70-a6f3d5d1644c",
   "metadata": {
    "collapsed": true,
    "jupyter": {
     "outputs_hidden": true
    },
    "tags": []
   },
   "outputs": [
    {
     "ename": "SyntaxError",
     "evalue": "cannot assign to literal here. Maybe you meant '==' instead of '='? (3465474922.py, line 2)",
     "output_type": "error",
     "traceback": [
      "\u001b[0;36m  Cell \u001b[0;32mIn[16], line 2\u001b[0;36m\u001b[0m\n\u001b[0;31m    29 = \"Hello World\"\u001b[0m\n\u001b[0m    ^\u001b[0m\n\u001b[0;31mSyntaxError\u001b[0m\u001b[0;31m:\u001b[0m cannot assign to literal here. Maybe you meant '==' instead of '='?\n"
     ]
    }
   ],
   "source": [
    "#number cannot be used for variables example below:\n",
    "29 = \"Hello World\"\n",
    "print(29)"
   ]
  },
  {
   "cell_type": "code",
   "execution_count": 18,
   "id": "85841341-f00e-42fd-8c5d-d58c41a6bcd7",
   "metadata": {
    "collapsed": true,
    "jupyter": {
     "outputs_hidden": true
    },
    "tags": []
   },
   "outputs": [
    {
     "ename": "SyntaxError",
     "evalue": "invalid syntax (3245584201.py, line 2)",
     "output_type": "error",
     "traceback": [
      "\u001b[0;36m  Cell \u001b[0;32mIn[18], line 2\u001b[0;36m\u001b[0m\n\u001b[0;31m    for = \"hello world\"\u001b[0m\n\u001b[0m        ^\u001b[0m\n\u001b[0;31mSyntaxError\u001b[0m\u001b[0;31m:\u001b[0m invalid syntax\n"
     ]
    }
   ],
   "source": [
    "#question-2 Keywords cannot be used for variables:\n",
    "for = \"hello world\"\n",
    "print(for)"
   ]
  },
  {
   "cell_type": "code",
   "execution_count": 19,
   "id": "cb1c1de8-25a4-4904-b97e-14ba7c2728df",
   "metadata": {},
   "outputs": [
    {
     "name": "stdout",
     "output_type": "stream",
     "text": [
      "hello world\n"
     ]
    }
   ],
   "source": [
    "#capital letters can be used\n",
    "V = \"hello world\"\n",
    "print(V)"
   ]
  },
  {
   "cell_type": "code",
   "execution_count": 4,
   "id": "241446fc-a5bf-4ae1-af1d-f4acf2a62f6f",
   "metadata": {
    "tags": []
   },
   "outputs": [
    {
     "ename": "SyntaxError",
     "evalue": "invalid syntax (1048852248.py, line 2)",
     "output_type": "error",
     "traceback": [
      "\u001b[0;36m  Cell \u001b[0;32mIn[4], line 2\u001b[0;36m\u001b[0m\n\u001b[0;31m    hello world = \"hello world\"\u001b[0m\n\u001b[0m          ^\u001b[0m\n\u001b[0;31mSyntaxError\u001b[0m\u001b[0;31m:\u001b[0m invalid syntax\n"
     ]
    }
   ],
   "source": [
    "#question 3 using string as variable\n",
    "hello world = \"hello world\"\n",
    "print(hello world)\n",
    "\"\"\"so we can not use string as a variable\"\"\""
   ]
  },
  {
   "cell_type": "code",
   "execution_count": 5,
   "id": "aea80519-b689-438a-abc7-68f1c493051d",
   "metadata": {},
   "outputs": [
    {
     "name": "stdout",
     "output_type": "stream",
     "text": [
      "Hello world\n"
     ]
    }
   ],
   "source": [
    "#Question- 4\n",
    "var_1 = \"Hello world\"\n",
    "print(var_1)"
   ]
  },
  {
   "cell_type": "code",
   "execution_count": 8,
   "id": "736b7b4c-e84c-4700-a98f-c3c3db9d56c6",
   "metadata": {},
   "outputs": [
    {
     "name": "stdout",
     "output_type": "stream",
     "text": [
      "hi\n",
      "world welcome\n"
     ]
    }
   ],
   "source": [
    "#question-5\n",
    "d1 = \"hi\"\n",
    "d2 = \"world\"\n",
    "d3 = \"welcome\"\n",
    "print(d1)\n",
    "print(d2,d3)\n"
   ]
  }
 ],
 "metadata": {
  "kernelspec": {
   "display_name": "Python 3 (ipykernel)",
   "language": "python",
   "name": "python3"
  },
  "language_info": {
   "codemirror_mode": {
    "name": "ipython",
    "version": 3
   },
   "file_extension": ".py",
   "mimetype": "text/x-python",
   "name": "python",
   "nbconvert_exporter": "python",
   "pygments_lexer": "ipython3",
   "version": "3.10.8"
  }
 },
 "nbformat": 4,
 "nbformat_minor": 5
}
